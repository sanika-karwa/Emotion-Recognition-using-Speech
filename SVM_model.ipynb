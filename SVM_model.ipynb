{
 "cells": [
  {
   "cell_type": "code",
   "execution_count": 1,
   "metadata": {},
   "outputs": [],
   "source": [
    "import numpy as np # linear algebra  \n",
    "import pandas as pd # data processing, CSV file I/O (e.g. pd.read_csv)\n",
    "import os # to use operating system dependent functionality\n",
    "#run following commands to install librosa module for anaconda for first time\n",
    "#conda install -c numba numba\n",
    "#conda install -c conda-forge librosa\n",
    "import librosa # to extract speech features\n",
    "import librosa.display #to display audio as wave plot, spectrogram, or colormap\n",
    "import wave # read and write WAV files\n",
    "#run following commands to install soundfile module for anaconda for first time\n",
    "#conda install -c conda-forge pysoundfile\n",
    "import soundfile\n",
    "import matplotlib.pyplot as plt # to generate the visualizations\n",
    "import random # to shuffle the train and test data\n",
    "import glob\n",
    "# MLP Classifier\n",
    "from sklearn.model_selection import train_test_split\n",
    "from sklearn.neural_network import MLPClassifier\n",
    "from sklearn.metrics import accuracy_score\n",
    "from sklearn.metrics import classification_report #classification report\n",
    "from sklearn.metrics import confusion_matrix #confusion matrix\n",
    "from sklearn.model_selection import cross_val_score"
   ]
  },
  {
   "cell_type": "code",
   "execution_count": 2,
   "metadata": {},
   "outputs": [],
   "source": [
    "#from sklearn.externals import joblib"
   ]
  },
  {
   "cell_type": "code",
   "execution_count": 3,
   "metadata": {},
   "outputs": [],
   "source": [
    "f_x=open('x.npy','rb')\n",
    "x=np.load(f_x)\n",
    "f_y=open('y.npy','rb')\n",
    "y=np.load(f_y)"
   ]
  },
  {
   "cell_type": "code",
   "execution_count": 4,
   "metadata": {},
   "outputs": [
    {
     "data": {
      "text/plain": [
       "((5252, 52), (5252, 1))"
      ]
     },
     "execution_count": 4,
     "metadata": {},
     "output_type": "execute_result"
    }
   ],
   "source": [
    "x = pd.DataFrame(x)\n",
    "y = pd.DataFrame(y)\n",
    "x.shape, y.shape"
   ]
  },
  {
   "cell_type": "code",
   "execution_count": 5,
   "metadata": {},
   "outputs": [],
   "source": [
    "#Renaming label column to emotion\n",
    "y=y.rename(columns= {0: 'emotion'})"
   ]
  },
  {
   "cell_type": "code",
   "execution_count": 6,
   "metadata": {},
   "outputs": [],
   "source": [
    "#Concatenating attributes and labeling into a single dataframe\n",
    "data = pd.concat([x, y], axis =1)"
   ]
  },
  {
   "cell_type": "code",
   "execution_count": 7,
   "metadata": {},
   "outputs": [
    {
     "data": {
      "text/html": [
       "<div>\n",
       "<style scoped>\n",
       "    .dataframe tbody tr th:only-of-type {\n",
       "        vertical-align: middle;\n",
       "    }\n",
       "\n",
       "    .dataframe tbody tr th {\n",
       "        vertical-align: top;\n",
       "    }\n",
       "\n",
       "    .dataframe thead th {\n",
       "        text-align: right;\n",
       "    }\n",
       "</style>\n",
       "<table border=\"1\" class=\"dataframe\">\n",
       "  <thead>\n",
       "    <tr style=\"text-align: right;\">\n",
       "      <th></th>\n",
       "      <th>0</th>\n",
       "      <th>1</th>\n",
       "      <th>2</th>\n",
       "      <th>3</th>\n",
       "      <th>4</th>\n",
       "      <th>5</th>\n",
       "      <th>6</th>\n",
       "      <th>7</th>\n",
       "      <th>8</th>\n",
       "      <th>9</th>\n",
       "      <th>...</th>\n",
       "      <th>43</th>\n",
       "      <th>44</th>\n",
       "      <th>45</th>\n",
       "      <th>46</th>\n",
       "      <th>47</th>\n",
       "      <th>48</th>\n",
       "      <th>49</th>\n",
       "      <th>50</th>\n",
       "      <th>51</th>\n",
       "      <th>emotion</th>\n",
       "    </tr>\n",
       "  </thead>\n",
       "  <tbody>\n",
       "    <tr>\n",
       "      <th>0</th>\n",
       "      <td>-356.307617</td>\n",
       "      <td>39.295349</td>\n",
       "      <td>-3.818739</td>\n",
       "      <td>19.548174</td>\n",
       "      <td>-31.152237</td>\n",
       "      <td>7.461418</td>\n",
       "      <td>-5.522099</td>\n",
       "      <td>-11.378922</td>\n",
       "      <td>-14.606233</td>\n",
       "      <td>-0.166850</td>\n",
       "      <td>...</td>\n",
       "      <td>0.382727</td>\n",
       "      <td>0.468750</td>\n",
       "      <td>0.474961</td>\n",
       "      <td>0.469802</td>\n",
       "      <td>0.404621</td>\n",
       "      <td>0.456449</td>\n",
       "      <td>0.573767</td>\n",
       "      <td>0.607277</td>\n",
       "      <td>0.590959</td>\n",
       "      <td>angry</td>\n",
       "    </tr>\n",
       "    <tr>\n",
       "      <th>1</th>\n",
       "      <td>-648.970947</td>\n",
       "      <td>71.907417</td>\n",
       "      <td>2.742204</td>\n",
       "      <td>21.670788</td>\n",
       "      <td>10.711693</td>\n",
       "      <td>8.265317</td>\n",
       "      <td>7.268557</td>\n",
       "      <td>2.156604</td>\n",
       "      <td>-6.138275</td>\n",
       "      <td>7.114227</td>\n",
       "      <td>...</td>\n",
       "      <td>0.698702</td>\n",
       "      <td>0.699198</td>\n",
       "      <td>0.736538</td>\n",
       "      <td>0.756901</td>\n",
       "      <td>0.783357</td>\n",
       "      <td>0.800962</td>\n",
       "      <td>0.764646</td>\n",
       "      <td>0.747048</td>\n",
       "      <td>0.747090</td>\n",
       "      <td>neutral</td>\n",
       "    </tr>\n",
       "    <tr>\n",
       "      <th>2</th>\n",
       "      <td>-515.315552</td>\n",
       "      <td>96.709106</td>\n",
       "      <td>17.000681</td>\n",
       "      <td>7.916927</td>\n",
       "      <td>-6.614500</td>\n",
       "      <td>9.827738</td>\n",
       "      <td>-10.339198</td>\n",
       "      <td>-4.735696</td>\n",
       "      <td>-20.289061</td>\n",
       "      <td>4.476994</td>\n",
       "      <td>...</td>\n",
       "      <td>0.192168</td>\n",
       "      <td>0.163040</td>\n",
       "      <td>0.232304</td>\n",
       "      <td>0.591214</td>\n",
       "      <td>0.890647</td>\n",
       "      <td>0.361239</td>\n",
       "      <td>0.203015</td>\n",
       "      <td>0.237657</td>\n",
       "      <td>0.291299</td>\n",
       "      <td>neutral</td>\n",
       "    </tr>\n",
       "    <tr>\n",
       "      <th>3</th>\n",
       "      <td>-343.473633</td>\n",
       "      <td>24.911877</td>\n",
       "      <td>-11.725330</td>\n",
       "      <td>25.349335</td>\n",
       "      <td>-8.876385</td>\n",
       "      <td>4.261898</td>\n",
       "      <td>-10.128536</td>\n",
       "      <td>2.456510</td>\n",
       "      <td>-12.387281</td>\n",
       "      <td>12.677750</td>\n",
       "      <td>...</td>\n",
       "      <td>0.439715</td>\n",
       "      <td>0.379614</td>\n",
       "      <td>0.419363</td>\n",
       "      <td>0.458255</td>\n",
       "      <td>0.535003</td>\n",
       "      <td>0.506526</td>\n",
       "      <td>0.487493</td>\n",
       "      <td>0.552884</td>\n",
       "      <td>0.714514</td>\n",
       "      <td>fearful</td>\n",
       "    </tr>\n",
       "    <tr>\n",
       "      <th>4</th>\n",
       "      <td>-598.516418</td>\n",
       "      <td>68.794670</td>\n",
       "      <td>11.450034</td>\n",
       "      <td>15.062591</td>\n",
       "      <td>-6.816339</td>\n",
       "      <td>8.181954</td>\n",
       "      <td>-2.811880</td>\n",
       "      <td>1.737113</td>\n",
       "      <td>-12.451514</td>\n",
       "      <td>-1.294711</td>\n",
       "      <td>...</td>\n",
       "      <td>0.713477</td>\n",
       "      <td>0.679605</td>\n",
       "      <td>0.676173</td>\n",
       "      <td>0.655893</td>\n",
       "      <td>0.646681</td>\n",
       "      <td>0.666498</td>\n",
       "      <td>0.654052</td>\n",
       "      <td>0.667496</td>\n",
       "      <td>0.651543</td>\n",
       "      <td>disgust</td>\n",
       "    </tr>\n",
       "  </tbody>\n",
       "</table>\n",
       "<p>5 rows × 53 columns</p>\n",
       "</div>"
      ],
      "text/plain": [
       "            0          1          2          3          4         5  \\\n",
       "0 -356.307617  39.295349  -3.818739  19.548174 -31.152237  7.461418   \n",
       "1 -648.970947  71.907417   2.742204  21.670788  10.711693  8.265317   \n",
       "2 -515.315552  96.709106  17.000681   7.916927  -6.614500  9.827738   \n",
       "3 -343.473633  24.911877 -11.725330  25.349335  -8.876385  4.261898   \n",
       "4 -598.516418  68.794670  11.450034  15.062591  -6.816339  8.181954   \n",
       "\n",
       "           6          7          8          9  ...        43        44  \\\n",
       "0  -5.522099 -11.378922 -14.606233  -0.166850  ...  0.382727  0.468750   \n",
       "1   7.268557   2.156604  -6.138275   7.114227  ...  0.698702  0.699198   \n",
       "2 -10.339198  -4.735696 -20.289061   4.476994  ...  0.192168  0.163040   \n",
       "3 -10.128536   2.456510 -12.387281  12.677750  ...  0.439715  0.379614   \n",
       "4  -2.811880   1.737113 -12.451514  -1.294711  ...  0.713477  0.679605   \n",
       "\n",
       "         45        46        47        48        49        50        51  \\\n",
       "0  0.474961  0.469802  0.404621  0.456449  0.573767  0.607277  0.590959   \n",
       "1  0.736538  0.756901  0.783357  0.800962  0.764646  0.747048  0.747090   \n",
       "2  0.232304  0.591214  0.890647  0.361239  0.203015  0.237657  0.291299   \n",
       "3  0.419363  0.458255  0.535003  0.506526  0.487493  0.552884  0.714514   \n",
       "4  0.676173  0.655893  0.646681  0.666498  0.654052  0.667496  0.651543   \n",
       "\n",
       "   emotion  \n",
       "0    angry  \n",
       "1  neutral  \n",
       "2  neutral  \n",
       "3  fearful  \n",
       "4  disgust  \n",
       "\n",
       "[5 rows x 53 columns]"
      ]
     },
     "execution_count": 7,
     "metadata": {},
     "output_type": "execute_result"
    }
   ],
   "source": [
    "data.head()"
   ]
  },
  {
   "cell_type": "code",
   "execution_count": 8,
   "metadata": {},
   "outputs": [],
   "source": [
    "#Reindexing to shuffle the data at randome\n",
    "data = data.reindex(np.random.permutation(data.index))"
   ]
  },
  {
   "cell_type": "code",
   "execution_count": 9,
   "metadata": {},
   "outputs": [],
   "source": [
    "#Storing shuffled ravdess and tess data to avoid loading again\n",
    "data.to_csv(\"RAVTESS_MFCC_Observed.csv\")"
   ]
  },
  {
   "cell_type": "code",
   "execution_count": 10,
   "metadata": {},
   "outputs": [],
   "source": [
    "#Reading the ravdess and tess csv file\n",
    "data=pd.read_csv(\"RAVTESS_MFCC_Observed.csv\")"
   ]
  },
  {
   "cell_type": "code",
   "execution_count": 11,
   "metadata": {},
   "outputs": [
    {
     "data": {
      "text/plain": [
       "Index(['Unnamed: 0', '0', '1', '2', '3', '4', '5', '6', '7', '8', '9', '10',\n",
       "       '11', '12', '13', '14', '15', '16', '17', '18', '19', '20', '21', '22',\n",
       "       '23', '24', '25', '26', '27', '28', '29', '30', '31', '32', '33', '34',\n",
       "       '35', '36', '37', '38', '39', '40', '41', '42', '43', '44', '45', '46',\n",
       "       '47', '48', '49', '50', '51', 'emotion'],\n",
       "      dtype='object')"
      ]
     },
     "execution_count": 11,
     "metadata": {},
     "output_type": "execute_result"
    }
   ],
   "source": [
    "#printing all the columns\n",
    "data.columns"
   ]
  },
  {
   "cell_type": "code",
   "execution_count": 12,
   "metadata": {},
   "outputs": [],
   "source": [
    "#Dropping the unnamed column to remove shuffled index\n",
    "data = data.drop('Unnamed: 0',axis=1)"
   ]
  },
  {
   "cell_type": "code",
   "execution_count": 13,
   "metadata": {},
   "outputs": [],
   "source": [
    "#Seperating features and targets outputs\n",
    "x = data.drop('emotion', axis = 1).values\n",
    "y = data['emotion'].values"
   ]
  },
  {
   "cell_type": "code",
   "execution_count": 14,
   "metadata": {},
   "outputs": [],
   "source": [
    "#Implementing SVM with Scikit-Learn\n",
    "import pandas as pd\n",
    "import numpy as np\n",
    "import matplotlib.pyplot as plt\n",
    "%matplotlib inline"
   ]
  },
  {
   "cell_type": "code",
   "execution_count": 15,
   "metadata": {},
   "outputs": [
    {
     "data": {
      "text/plain": [
       "((5252, 52), (5252,))"
      ]
     },
     "execution_count": 15,
     "metadata": {},
     "output_type": "execute_result"
    }
   ],
   "source": [
    "#X variable contains attributes while y variable contains corresponding labels\n",
    "x.shape, y.shape"
   ]
  },
  {
   "cell_type": "code",
   "execution_count": 16,
   "metadata": {},
   "outputs": [
    {
     "data": {
      "text/plain": [
       "array(['angry', 'calm', 'disgust', 'fearful', 'happy', 'neutral', 'sad',\n",
       "       'surprised'], dtype=object)"
      ]
     },
     "execution_count": 16,
     "metadata": {},
     "output_type": "execute_result"
    }
   ],
   "source": [
    "np.unique(y)"
   ]
  },
  {
   "cell_type": "code",
   "execution_count": 17,
   "metadata": {},
   "outputs": [],
   "source": [
    "X_train, X_test, y_train, y_test = train_test_split(x, y, test_size = 0.20)"
   ]
  },
  {
   "cell_type": "code",
   "execution_count": 18,
   "metadata": {},
   "outputs": [],
   "source": [
    "from sklearn.svm import SVC\n",
    "\n",
    "svclassifier = SVC(kernel = 'linear')"
   ]
  },
  {
   "cell_type": "code",
   "execution_count": 19,
   "metadata": {},
   "outputs": [
    {
     "name": "stdout",
     "output_type": "stream",
     "text": [
      "Trained model in 142.88242173194885 sec \n"
     ]
    }
   ],
   "source": [
    "#The fit method is used to train the algorithm\n",
    "import time\n",
    "\n",
    "starting_time = time.time()\n",
    "svclassifier.fit(X_train, y_train)\n",
    "print(\"Trained model in %s sec \" % str(time.time() - starting_time))"
   ]
  },
  {
   "cell_type": "code",
   "execution_count": 20,
   "metadata": {},
   "outputs": [],
   "source": [
    "#to make predictions predict class is used\n",
    "y_pred = svclassifier.predict(X_test)"
   ]
  },
  {
   "cell_type": "code",
   "execution_count": 21,
   "metadata": {},
   "outputs": [
    {
     "name": "stdout",
     "output_type": "stream",
     "text": [
      "              precision    recall  f1-score   support\n",
      "\n",
      "       angry       0.75      0.79      0.77       155\n",
      "        calm       0.58      0.71      0.64        77\n",
      "     disgust       0.73      0.72      0.73       114\n",
      "     fearful       0.64      0.76      0.69       147\n",
      "       happy       0.74      0.65      0.69       163\n",
      "     neutral       0.84      0.85      0.84       118\n",
      "         sad       0.76      0.72      0.74       155\n",
      "   surprised       0.86      0.68      0.76       122\n",
      "\n",
      "    accuracy                           0.73      1051\n",
      "   macro avg       0.74      0.74      0.73      1051\n",
      "weighted avg       0.74      0.73      0.74      1051\n",
      "\n",
      "----accuracy score 73.45385347288297 ----\n"
     ]
    },
    {
     "data": {
      "image/png": "[encoded data removed]",
      "text/plain": [
       "<Figure size 432x288 with 2 Axes>"
      ]
     },
     "metadata": {
      "needs_background": "light"
     },
     "output_type": "display_data"
    }
   ],
   "source": [
    "#Classification report, Confusion matrix and accuracy score is printed\n",
    "from sklearn.metrics import classification_report, confusion_matrix,accuracy_score\n",
    "import seaborn as sn\n",
    "\n",
    "print(classification_report(y_test,y_pred))\n",
    "\n",
    "acc = float(accuracy_score(y_test,y_pred))*100\n",
    "print(\"----accuracy score %s ----\" % acc)\n",
    "\n",
    "cm = confusion_matrix(y_test,y_pred)\n",
    "df_cm = pd.DataFrame(cm)\n",
    "sn.heatmap(df_cm, annot=True, fmt='')\n",
    "plt.show()"
   ]
  },
  {
   "cell_type": "code",
   "execution_count": 22,
   "metadata": {},
   "outputs": [
    {
     "name": "stdout",
     "output_type": "stream",
     "text": [
      "----train accuracy score 79.12401809093072 ----\n",
      "----test accuracy score 73.45385347288297 ----\n"
     ]
    }
   ],
   "source": [
    "#Comparing training and test accuracy to check for overfitting of data\n",
    "train_acc = float(svclassifier.score(X_train, y_train)*100)\n",
    "print(\"----train accuracy score %s ----\" % train_acc)\n",
    "\n",
    "test_acc = float(svclassifier.score(X_test, y_test)*100)\n",
    "print(\"----test accuracy score %s ----\" % test_acc)"
   ]
  },
  {
   "cell_type": "code",
   "execution_count": 23,
   "metadata": {},
   "outputs": [
    {
     "name": "stdout",
     "output_type": "stream",
     "text": [
      "[0.76784015 0.73644148 0.7447619  0.71047619 0.73619048]\n",
      "Avg accuracy: 73.91420415930406\n"
     ]
    }
   ],
   "source": [
    "#5-fold Cross-validation of SVC classifier\n",
    "from sklearn.model_selection import cross_val_score\n",
    "\n",
    "# no. of folds cv = 5\n",
    "cv_results = cross_val_score(svclassifier, x, y, cv = 5)\n",
    "print(cv_results)\n",
    "print(\"Avg accuracy:\",cv_results.mean()*100)"
   ]
  },
  {
   "cell_type": "code",
   "execution_count": 24,
   "metadata": {},
   "outputs": [
    {
     "name": "stdout",
     "output_type": "stream",
     "text": [
      "Accuracy with Scaling: 0.8239771646051379\n",
      "Accuracy without Scaling: 0.7259752616555661\n"
     ]
    }
   ],
   "source": [
    "#Normalize the training data and afterwards scaling the test data with the mean and standard deviation of the test data\n",
    "from sklearn.model_selection import train_test_split\n",
    "from sklearn.preprocessing import StandardScaler\n",
    "from sklearn.pipeline import Pipeline\n",
    "from sklearn.svm import SVC\n",
    "\n",
    "\n",
    "#splitting dataset into train/ test sets\n",
    "x_train, x_test, y_train, y_test = train_test_split(x, y, test_size = 0.20)\n",
    "\n",
    "# Setup the pipeline steps: steps\n",
    "steps = [('scaler', StandardScaler()),\n",
    "        ('SVM', SVC())]\n",
    "        \n",
    "# Create the pipeline: pipeline\n",
    "pipeline = Pipeline(steps)\n",
    "\n",
    "# Fit the pipeline to the training set: svc_scaled\n",
    "svc_scaled = pipeline.fit(x_train, y_train)\n",
    "\n",
    "# Instantiate and fit a classifier to the unscaled data\n",
    "svc_unscaled = SVC(kernel = 'linear').fit(x_train, y_train)\n",
    "\n",
    "# Compute and print metrics\n",
    "print('Accuracy with Scaling: {}'.format(svc_scaled.score(x_test, y_test)))\n",
    "print('Accuracy without Scaling: {}'.format(svc_unscaled.score(x_test, y_test)))"
   ]
  },
  {
   "cell_type": "code",
   "execution_count": 38,
   "metadata": {},
   "outputs": [
    {
     "name": "stdout",
     "output_type": "stream",
     "text": [
      "----train accuracy score 86.64504716981132 ----\n",
      "----test accuracy score 83.25471698113208 ----\n"
     ]
    }
   ],
   "source": [
    "#check for overfitiing or underfitting \n",
    "train_acc = float(svc_scaled.score(x_train, y_train)*100)\n",
    "print(\"----train accuracy score %s ----\" % train_acc)\n",
    "\n",
    "test_acc = float(svc_scaled.score(x_test, y_test)*100)\n",
    "print(\"----test accuracy score %s ----\" % test_acc)"
   ]
  },
  {
   "cell_type": "code",
   "execution_count": 32,
   "metadata": {},
   "outputs": [],
   "source": [
    "scaled_predictions = svc_scaled.predict(X_test)"
   ]
  },
  {
   "cell_type": "code",
   "execution_count": 33,
   "metadata": {},
   "outputs": [
    {
     "name": "stdout",
     "output_type": "stream",
     "text": [
      "              precision    recall  f1-score   support\n",
      "\n",
      "       angry       0.12      0.11      0.11       123\n",
      "        calm       0.07      0.14      0.09        43\n",
      "     disgust       0.12      0.14      0.13       112\n",
      "     fearful       0.09      0.07      0.08       115\n",
      "       happy       0.11      0.09      0.10       115\n",
      "     neutral       0.07      0.06      0.06       108\n",
      "         sad       0.10      0.11      0.11       108\n",
      "   surprised       0.12      0.12      0.12       124\n",
      "\n",
      "    accuracy                           0.10       848\n",
      "   macro avg       0.10      0.10      0.10       848\n",
      "weighted avg       0.10      0.10      0.10       848\n",
      "\n",
      "----accuracy score 10.141509433962264 ----\n"
     ]
    },
    {
     "data": {
      "image/png": "[encoded data removed]",
      "text/plain": [
       "<Figure size 432x288 with 2 Axes>"
      ]
     },
     "metadata": {
      "needs_background": "light"
     },
     "output_type": "display_data"
    }
   ],
   "source": [
    "#Classification reports and confusion matrix\n",
    "from sklearn.metrics import classification_report, confusion_matrix,accuracy_score\n",
    "import seaborn as sn\n",
    "\n",
    "print(classification_report(y_test,scaled_predictions))\n",
    "\n",
    "acc = float(accuracy_score(y_test,scaled_predictions))*100\n",
    "print(\"----accuracy score %s ----\" % acc)\n",
    "\n",
    "cm = confusion_matrix(y_test,scaled_predictions)\n",
    "df_cm = pd.DataFrame(cm)\n",
    "sn.heatmap(df_cm, annot=True, fmt='')\n",
    "plt.show()"
   ]
  },
  {
   "cell_type": "code",
   "execution_count": 35,
   "metadata": {},
   "outputs": [
    {
     "name": "stdout",
     "output_type": "stream",
     "text": [
      "[0.83704572 0.84507042 0.83431953 0.8035503  0.83313609]\n",
      "Avg accuracy: 83.06244121359467\n"
     ]
    }
   ],
   "source": [
    "#Cross validation score\n",
    "from sklearn.model_selection import cross_val_score\n",
    "\n",
    "# no. of folds cv = 5\n",
    "cv_results = cross_val_score(svc_scaled, x, y, cv = 5)\n",
    "print(cv_results)\n",
    "print(\"Avg accuracy:\",cv_results.mean()*100)"
   ]
  },
  {
   "cell_type": "code",
   "execution_count": 45,
   "metadata": {},
   "outputs": [
    {
     "name": "stdout",
     "output_type": "stream",
     "text": [
      "MODEL SAVED\n"
     ]
    }
   ],
   "source": [
    "joblib.dump(svclassifier, 'svm_model.pkl') \n",
    "print(\"MODEL SAVED\")"
   ]
  },
  {
   "cell_type": "code",
   "execution_count": null,
   "metadata": {},
   "outputs": [],
   "source": []
  }
 ],
 "metadata": {
  "kernelspec": {
   "display_name": "Python 3",
   "language": "python",
   "name": "python3"
  },
  "language_info": {
   "codemirror_mode": {
    "name": "ipython",
    "version": 3
   },
   "file_extension": ".py",
   "mimetype": "text/x-python",
   "name": "python",
   "nbconvert_exporter": "python",
   "pygments_lexer": "ipython3",
   "version": "3.8.5"
  }
 },
 "nbformat": 4,
 "nbformat_minor": 2
}
