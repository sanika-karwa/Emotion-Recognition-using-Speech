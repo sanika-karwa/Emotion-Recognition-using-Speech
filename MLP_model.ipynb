{
 "cells": [
  {
   "cell_type": "code",
   "execution_count": 28,
   "metadata": {},
   "outputs": [],
   "source": [
    "import numpy as np # linear algebra  \n",
    "import pandas as pd # data processing, CSV file I/O (e.g. pd.read_csv)\n",
    "import os # to use operating system dependent functionality\n",
    "#run following commands to install librosa module for anaconda for first time\n",
    "#conda install -c numba numba\n",
    "#conda install -c conda-forge librosa\n",
    "import librosa # to extract speech features\n",
    "import librosa.display #to display audio as wave plot, spectrogram, or colormap\n",
    "import wave # read and write WAV files\n",
    "#run following commands to install soundfile module for anaconda for first time\n",
    "#conda install -c conda-forge pysoundfile\n",
    "import soundfile\n",
    "import matplotlib.pyplot as plt # to generate the visualizations\n",
    "import random # to shuffle the train and test data\n",
    "import glob\n",
    "# MLP Classifier\n",
    "from sklearn.model_selection import train_test_split\n",
    "from sklearn.neural_network import MLPClassifier\n",
    "from sklearn.metrics import accuracy_score\n",
    "from sklearn.metrics import classification_report #classification report\n",
    "from sklearn.metrics import confusion_matrix #confusion matrix\n",
    "from sklearn.model_selection import cross_val_score\n",
    "import pickle as pkl"
   ]
  },
  {
   "cell_type": "code",
   "execution_count": 31,
   "metadata": {},
   "outputs": [],
   "source": [
    "#rom sklearn.externals import joblib"
   ]
  },
  {
   "cell_type": "code",
   "execution_count": 3,
   "metadata": {},
   "outputs": [],
   "source": [
    "f_x=open('x.npy','rb')\n",
    "x=np.load(f_x)\n",
    "f_y=open('y.npy','rb')\n",
    "y=np.load(f_y)"
   ]
  },
  {
   "cell_type": "code",
   "execution_count": 4,
   "metadata": {},
   "outputs": [],
   "source": [
    "x_train, x_test, y_train, y_test = train_test_split(x,y, test_size=0.2, random_state=42)"
   ]
  },
  {
   "cell_type": "code",
   "execution_count": 32,
   "metadata": {},
   "outputs": [
    {
     "data": {
      "text/plain": [
       "array([[-5.31651428e+02,  7.78657303e+01,  2.15921040e+01, ...,\n",
       "         4.61868286e-01,  5.27371466e-01,  4.13227230e-01],\n",
       "       [-5.80325989e+02,  6.28923492e+01, -5.56045103e+00, ...,\n",
       "         6.42150939e-01,  5.76573670e-01,  6.01093471e-01],\n",
       "       [-6.28379395e+02,  5.30089417e+01, -1.34875357e+00, ...,\n",
       "         6.78749919e-01,  7.12219477e-01,  7.40691304e-01],\n",
       "       ...,\n",
       "       [-6.13740723e+02,  4.59259186e+01, -2.03450546e+01, ...,\n",
       "         5.55046499e-01,  4.83037293e-01,  4.56697702e-01],\n",
       "       [-4.14405823e+02,  6.29957924e+01,  9.83915865e-01, ...,\n",
       "         5.74915707e-01,  4.89906162e-01,  5.50389230e-01],\n",
       "       [-6.26350830e+02,  6.13934631e+01, -1.43732004e+01, ...,\n",
       "         7.18461096e-01,  7.24123359e-01,  6.90424502e-01]])"
      ]
     },
     "execution_count": 32,
     "metadata": {},
     "output_type": "execute_result"
    }
   ],
   "source": [
    "x_train"
   ]
  },
  {
   "cell_type": "code",
   "execution_count": 33,
   "metadata": {},
   "outputs": [
    {
     "data": {
      "text/plain": [
       "array(['sad', 'fearful', 'angry', ..., 'calm', 'disgust', 'sad'],\n",
       "      dtype='<U9')"
      ]
     },
     "execution_count": 33,
     "metadata": {},
     "output_type": "execute_result"
    }
   ],
   "source": [
    "y_train"
   ]
  },
  {
   "cell_type": "code",
   "execution_count": 5,
   "metadata": {},
   "outputs": [],
   "source": [
    "model_mlp=MLPClassifier(alpha=0.01,batch_size=100,epsilon=1e-08,hidden_layer_sizes=(180,180),learning_rate='adaptive',max_iter=400)"
   ]
  },
  {
   "cell_type": "code",
   "execution_count": 6,
   "metadata": {},
   "outputs": [
    {
     "data": {
      "text/plain": [
       "MLPClassifier(alpha=0.01, batch_size=100, hidden_layer_sizes=(180, 180),\n",
       "              learning_rate='adaptive', max_iter=400)"
      ]
     },
     "execution_count": 6,
     "metadata": {},
     "output_type": "execute_result"
    }
   ],
   "source": [
    "model_mlp.fit(x_train,y_train)"
   ]
  },
  {
   "cell_type": "code",
   "execution_count": 7,
   "metadata": {},
   "outputs": [],
   "source": [
    "y_pred_test=model_mlp.predict(x_test)\n",
    "y_pred_train=model_mlp.predict(x_train)"
   ]
  },
  {
   "cell_type": "code",
   "execution_count": 8,
   "metadata": {},
   "outputs": [
    {
     "name": "stdout",
     "output_type": "stream",
     "text": [
      "Test Accuracy:85.63%\n",
      "Train Accuracy:90.91%\n"
     ]
    }
   ],
   "source": [
    "accuracy1=accuracy_score(y_true=y_test,y_pred=y_pred_test)\n",
    "accuracy2=accuracy_score(y_true=y_train,y_pred=y_pred_train)\n",
    "print(\"Test Accuracy:{:.2f}%\".format(accuracy1*100))\n",
    "print(\"Train Accuracy:{:.2f}%\".format(accuracy2*100))"
   ]
  },
  {
   "cell_type": "code",
   "execution_count": 9,
   "metadata": {},
   "outputs": [
    {
     "name": "stdout",
     "output_type": "stream",
     "text": [
      "[0.83590963 0.8        0.81785714 0.81904762 0.81904762]\n",
      "Avg accuracy: 81.83724024687163\n"
     ]
    }
   ],
   "source": [
    "cv_results = cross_val_score(model_mlp, x_train, y_train,scoring='accuracy', cv = 5)\n",
    "print(cv_results)\n",
    "print(\"Avg accuracy:\",cv_results.mean()*100)"
   ]
  },
  {
   "cell_type": "code",
   "execution_count": 17,
   "metadata": {},
   "outputs": [
    {
     "name": "stdout",
     "output_type": "stream",
     "text": [
      "              precision    recall  f1-score   support\n",
      "\n",
      "       angry       0.82      0.91      0.86       171\n",
      "        calm       0.67      0.87      0.76        54\n",
      "     disgust       0.85      0.88      0.86       127\n",
      "     fearful       0.86      0.88      0.87       163\n",
      "       happy       0.92      0.84      0.88       157\n",
      "     neutral       0.91      0.84      0.87       100\n",
      "         sad       0.81      0.85      0.83       150\n",
      "   surprised       0.97      0.77      0.86       129\n",
      "\n",
      "    accuracy                           0.86      1051\n",
      "   macro avg       0.85      0.85      0.85      1051\n",
      "weighted avg       0.86      0.86      0.86      1051\n",
      "\n"
     ]
    }
   ],
   "source": [
    "#classification report\n",
    "print(classification_report(y_test,y_pred_test))"
   ]
  },
  {
   "cell_type": "code",
   "execution_count": 18,
   "metadata": {},
   "outputs": [
    {
     "name": "stdout",
     "output_type": "stream",
     "text": [
      "[[155   0   9   5   1   1   0   0]\n",
      " [  0  47   0   0   2   1   4   0]\n",
      " [  5   3 112   1   1   0   3   2]\n",
      " [ 10   0   1 144   2   1   4   1]\n",
      " [ 10   4   1   5 132   1   4   0]\n",
      " [  1   8   0   0   0  84   7   0]\n",
      " [  2   5   2  11   1   2 127   0]\n",
      " [  6   3   7   1   4   2   7  99]]\n"
     ]
    }
   ],
   "source": [
    "#confusion matrix\n",
    "cm = confusion_matrix(y_test,y_pred_test)\n",
    "print(cm)"
   ]
  },
  {
   "cell_type": "code",
   "execution_count": 1,
   "metadata": {},
   "outputs": [
    {
     "ename": "NameError",
     "evalue": "name 'joblib' is not defined",
     "output_type": "error",
     "traceback": [
      "\u001b[1;31m---------------------------------------------------------------------------\u001b[0m",
      "\u001b[1;31mNameError\u001b[0m                                 Traceback (most recent call last)",
      "\u001b[1;32m<ipython-input-1-ee684144018c>\u001b[0m in \u001b[0;36m<module>\u001b[1;34m\u001b[0m\n\u001b[1;32m----> 1\u001b[1;33m \u001b[0mjoblib\u001b[0m\u001b[1;33m.\u001b[0m\u001b[0mdump\u001b[0m\u001b[1;33m(\u001b[0m\u001b[0mmodel_mlp\u001b[0m\u001b[1;33m,\u001b[0m \u001b[1;34m'mlp_model.pkl'\u001b[0m\u001b[1;33m)\u001b[0m\u001b[1;33m\u001b[0m\u001b[1;33m\u001b[0m\u001b[0m\n\u001b[0m\u001b[0;32m      2\u001b[0m \u001b[0mprint\u001b[0m\u001b[1;33m(\u001b[0m\u001b[1;34m\"MODEL SAVED\"\u001b[0m\u001b[1;33m)\u001b[0m\u001b[1;33m\u001b[0m\u001b[1;33m\u001b[0m\u001b[0m\n",
      "\u001b[1;31mNameError\u001b[0m: name 'joblib' is not defined"
     ]
    }
   ],
   "source": [
    "joblib.dump(model_mlp, 'mlp_model.pkl') \n",
    "print(\"MODEL SAVED\")"
   ]
  },
  {
   "cell_type": "code",
   "execution_count": null,
   "metadata": {},
   "outputs": [],
   "source": []
  }
 ],
 "metadata": {
  "kernelspec": {
   "display_name": "Python 3",
   "language": "python",
   "name": "python3"
  },
  "language_info": {
   "codemirror_mode": {
    "name": "ipython",
    "version": 3
   },
   "file_extension": ".py",
   "mimetype": "text/x-python",
   "name": "python",
   "nbconvert_exporter": "python",
   "pygments_lexer": "ipython3",
   "version": "3.8.5"
  }
 },
 "nbformat": 4,
 "nbformat_minor": 2
}
